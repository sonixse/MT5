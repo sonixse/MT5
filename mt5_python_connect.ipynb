{
 "cells": [
  {
   "cell_type": "markdown",
   "metadata": {},
   "source": [
    "# Conector MT5 - Python"
   ]
  },
  {
   "cell_type": "code",
   "execution_count": 10,
   "metadata": {},
   "outputs": [],
   "source": [
    "# Importar todos los módulos\n",
    "import pandas as pd\n",
    "import MetaTrader5 as mt5"
   ]
  },
  {
   "cell_type": "code",
   "execution_count": 8,
   "metadata": {},
   "outputs": [],
   "source": [
    "# Crear diccionario con las credenciales\n",
    "creds =  {\n",
    "    \"path\": \"C:/Program Files/Darwinex MetaTrader 5/terminal64.exe\",\n",
    "    \"login\": 4000031926,\n",
    "    \"pass\": \"$$@$5d&4$@#K\",\n",
    "    \"server\": \"liveUK-mt5.darwinex.com\",\n",
    "    \"timeout\": 60000,\n",
    "    \"portable\": False\n",
    "}"
   ]
  },
  {
   "cell_type": "code",
   "execution_count": 3,
   "metadata": {},
   "outputs": [
    {
     "data": {
      "text/plain": [
       "'C:/Program Files/Darwinex MetaTrader 5/terminal64.exe'"
      ]
     },
     "execution_count": 3,
     "metadata": {},
     "output_type": "execute_result"
    }
   ],
   "source": [
    "creds[\"path\"]"
   ]
  },
  {
   "cell_type": "code",
   "execution_count": 11,
   "metadata": {},
   "outputs": [
    {
     "name": "stdout",
     "output_type": "stream",
     "text": [
      "Plataforma MT5 lanzada correctamente\n"
     ]
    }
   ],
   "source": [
    "# Conexión a MT5 \n",
    "if mt5.initialize(path=creds[\"path\"], \n",
    "                  login=creds[\"login\"], \n",
    "                  password=creds[\"pass\"],\n",
    "                  server=creds[\"server\"],\n",
    "                  timeout=creds[\"timeout\"],\n",
    "                  portable=creds[\"portable\"]):\n",
    "    print(\"Plataforma MT5 lanzada correctamente\")\n",
    "else:\n",
    "    print(f\"Ha habido un problema en la inicialización: {mt5.last_error()}\")"
   ]
  }
 ],
 "metadata": {
  "kernelspec": {
   "display_name": "mt5python",
   "language": "python",
   "name": "python3"
  },
  "language_info": {
   "codemirror_mode": {
    "name": "ipython",
    "version": 3
   },
   "file_extension": ".py",
   "mimetype": "text/x-python",
   "name": "python",
   "nbconvert_exporter": "python",
   "pygments_lexer": "ipython3",
   "version": "3.13.2"
  }
 },
 "nbformat": 4,
 "nbformat_minor": 2
}
